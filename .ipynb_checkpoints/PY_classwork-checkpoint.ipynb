{
 "cells": [
  {
   "cell_type": "code",
   "execution_count": 58,
   "id": "bcc4de4a",
   "metadata": {},
   "outputs": [
    {
     "name": "stdout",
     "output_type": "stream",
     "text": [
      "enter the number 7\n",
      "*\n",
      "**\n",
      "***\n",
      "****\n",
      "*****\n",
      "******\n",
      "*******\n",
      "******\n",
      "*****\n",
      "****\n",
      "***\n",
      "**\n",
      "*\n",
      "\n"
     ]
    }
   ],
   "source": [
    "n=int(input(\"enter the number \"))\n",
    "#upper Triangle\n",
    "for i in range(n):\n",
    "    for j in range(i + 1):\n",
    "        print('*', end=\"\")\n",
    "    print()\n",
    "# lower triangle\n",
    "for i in range(n):\n",
    "    for j in range(n - i - 1):\n",
    "        print('*', end=\"\")\n",
    "    print()"
   ]
  },
  {
   "cell_type": "code",
   "execution_count": 63,
   "id": "e5a7b63a",
   "metadata": {},
   "outputs": [
    {
     "name": "stdout",
     "output_type": "stream",
     "text": [
      "[20, 40, 60, 80, 100]\n"
     ]
    }
   ],
   "source": [
    "my_list = [10, 20, 30, 40, 50, 60, 70, 80, 90, 100]\n",
    "l = my_list[1::2]\n",
    "print(l)"
   ]
  },
  {
   "cell_type": "code",
   "execution_count": 64,
   "id": "d3ce24b3",
   "metadata": {},
   "outputs": [
    {
     "name": "stdout",
     "output_type": "stream",
     "text": [
      "[23, 'Python', 23.98]\n",
      "[<class 'int'>, <class 'str'>, <class 'float'>]\n"
     ]
    }
   ],
   "source": [
    "x = [23, 'Python', 23.98]\n",
    "lst=[]\n",
    "print(x)\n",
    "for l in x:\n",
    "    lst.append(type(l))\n",
    "print(lst)"
   ]
  },
  {
   "cell_type": "code",
   "execution_count": 65,
   "id": "6ec475ae",
   "metadata": {},
   "outputs": [
    {
     "name": "stdout",
     "output_type": "stream",
     "text": [
      "Unique List  [1, 2, 3, 4, 5]\n"
     ]
    }
   ],
   "source": [
    "Sample_List= [1,2,3,3,3,3,4,5]\n",
    "\n",
    "def uniquefunction(lst):\n",
    "    unique_list=[]\n",
    "    for x in Sample_List:\n",
    "        if x not in unique_list:\n",
    "            unique_list.append(x)\n",
    "    print(\"Unique List \",unique_list)\n",
    "\n",
    "uniquefunction(Sample_List)"
   ]
  },
  {
   "cell_type": "code",
   "execution_count": 66,
   "id": "f6100295",
   "metadata": {},
   "outputs": [
    {
     "name": "stdout",
     "output_type": "stream",
     "text": [
      "No. of Upper-case characters:  3\n",
      "No. of Lower-case Characters:  12\n"
     ]
    }
   ],
   "source": [
    "st= 'The quick Brow Fox&'\n",
    "upperCount=0\n",
    "LowerCount=0\n",
    "for element in range(0, len(st)):\n",
    "    if st[element].isupper():\n",
    "        upperCount=upperCount+1\n",
    "    elif st[element].islower():\n",
    "        LowerCount=LowerCount+1\n",
    "    elif st[element].isspace():\n",
    "        LowerCount=LowerCount\n",
    "        upperCount=upperCount\n",
    "    else:\n",
    "        LowerCount=LowerCount\n",
    "        upperCount=upperCount\n",
    "print(\"No. of Upper-case characters: \",upperCount)\n",
    "print(\"No. of Lower-case Characters: \",LowerCount)"
   ]
  },
  {
   "cell_type": "code",
   "execution_count": null,
   "id": "e86d07dc",
   "metadata": {},
   "outputs": [],
   "source": []
  }
 ],
 "metadata": {
  "kernelspec": {
   "display_name": "Python 3 (ipykernel)",
   "language": "python",
   "name": "python3"
  },
  "language_info": {
   "codemirror_mode": {
    "name": "ipython",
    "version": 3
   },
   "file_extension": ".py",
   "mimetype": "text/x-python",
   "name": "python",
   "nbconvert_exporter": "python",
   "pygments_lexer": "ipython3",
   "version": "3.11.1"
  }
 },
 "nbformat": 4,
 "nbformat_minor": 5
}
